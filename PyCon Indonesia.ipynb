{
 "cells": [
  {
   "cell_type": "markdown",
   "metadata": {},
   "source": [
    "# namedtuple - immutable datatype\n",
    "\n",
    "### Tuple uses numerical indices to access its members, whereas namedtuple assigns name as well as numerical index to its members, hence preventing the errors caused by explicitly remembering the index as in tuples. Each namedtuple is represented by its own class.###"
   ]
  },
  {
   "cell_type": "code",
   "execution_count": 1,
   "metadata": {},
   "outputs": [
    {
     "name": "stdout",
     "output_type": "stream",
     "text": [
      "Fields accessed by name are:\n",
      "Name is alisha and gender is f.\n",
      "Fields accessed by index are:\n",
      "Name is alisha and gender is f.\n"
     ]
    },
    {
     "ename": "AttributeError",
     "evalue": "can't set attribute",
     "output_type": "error",
     "traceback": [
      "\u001b[0;31m---------------------------------------------------------------------------\u001b[0m",
      "\u001b[0;31mAttributeError\u001b[0m                            Traceback (most recent call last)",
      "\u001b[0;32m<ipython-input-1-2cc88ca92bd5>\u001b[0m in \u001b[0;36m<module>\u001b[0;34m()\u001b[0m\n\u001b[1;32m     15\u001b[0m \u001b[0;34m\u001b[0m\u001b[0m\n\u001b[1;32m     16\u001b[0m \u001b[0;31m# Try mutating the elements (will get error)\u001b[0m\u001b[0;34m\u001b[0m\u001b[0;34m\u001b[0m\u001b[0m\n\u001b[0;32m---> 17\u001b[0;31m \u001b[0malisha\u001b[0m\u001b[0;34m.\u001b[0m\u001b[0mname\u001b[0m \u001b[0;34m=\u001b[0m \u001b[0;34m\"somerandomname\"\u001b[0m\u001b[0;34m\u001b[0m\u001b[0m\n\u001b[0m",
      "\u001b[0;31mAttributeError\u001b[0m: can't set attribute"
     ]
    }
   ],
   "source": [
    "from collections import namedtuple\n",
    "\n",
    "# Arguments are name of the class and a string containing the names of the elements\n",
    "Person = namedtuple('Person', 'name gender')\n",
    "\n",
    "alisha = Person(name = 'alisha', gender = 'f')\n",
    "\n",
    "# Fields by name\n",
    "print (\"Fields accessed by name are:\")\n",
    "print (\"Name is %s and gender is %s.\"%(alisha.name, alisha.gender))\n",
    "\n",
    "# Fields by index\n",
    "print (\"Fields accessed by index are:\")\n",
    "print (\"Name is %s and gender is %s.\"%(alisha[0], alisha[1]))\n",
    "\n",
    "# Try mutating the elements (will get error)\n",
    "alisha.name = \"somerandomname\""
   ]
  },
  {
   "cell_type": "markdown",
   "metadata": {},
   "source": [
    "# frozenset - immutable set\n",
    "\n",
    "### frozen set is an immutable version of the Python set. Once created, it cannot be modified. Due to this reason, they are used as dictionary keys as well. It can be empty or can take a single parameter which is an iterable (lists, tuples, dictionary etc.) ###"
   ]
  },
  {
   "cell_type": "code",
   "execution_count": null,
   "metadata": {
    "collapsed": true
   },
   "outputs": [],
   "source": [
    "food = ['cake', 'burger', 'pizza']\n",
    "fSet = frozenset(food)\n",
    "print (fSet)\n",
    "\n",
    "# Empty frozenset\n",
    "print (frozenset())\n",
    "\n",
    "# Try adding a new element: error\n",
    "fSet.add('chocolate')\n",
    "\n",
    "# Try removing a new element: error\n",
    "fSet.remove('cake')"
   ]
  },
  {
   "cell_type": "markdown",
   "metadata": {},
   "source": [
    "# Functions as 'first class citizens'\n",
    "\n",
    "### Python’s functions are first-class objects. We can assign them to variables, store them in data structures, pass them as arguments to other functions, and return them as values from other functions."
   ]
  },
  {
   "cell_type": "code",
   "execution_count": null,
   "metadata": {
    "collapsed": true
   },
   "outputs": [],
   "source": [
    "def multiply2(a):\n",
    "    return a*2\n",
    "\n",
    "# Function assigned to variable\n",
    "var_multiply = multiply2\n",
    "print (var_multiply(2)) \n",
    "\n",
    "# Function store in data structure (list here)\n",
    "test_list = [multiply2, 7, 8]\n",
    "print (test_list[0](3))\n",
    "\n",
    "# Loop over list as with normal variables\n",
    "for i in test_list:\n",
    "    print (i)\n",
    "    \n",
    "# Function passed as argument to other functions\n",
    "def add(multiply2, b):\n",
    "    a = multiply2(3)\n",
    "    return (a+b)\n",
    "\n",
    "add(multiply2, 3)\n",
    "\n",
    "# Return a function from another function\n",
    "def greater(a, b):\n",
    "    def yes_greater():\n",
    "        return (\"Oh yeah I am the bigger one! :)\")\n",
    "    def no_greater():\n",
    "        return (\"Oh no I am the smaller one! :(\")\n",
    "    \n",
    "    if a > b:\n",
    "        return yes_greater\n",
    "    else:\n",
    "        return no_greater\n",
    "    \n",
    "greater(5, 2)()"
   ]
  },
  {
   "cell_type": "markdown",
   "metadata": {
    "collapsed": true
   },
   "source": [
    "# map() and filter()\n",
    "\n",
    "### Map takes a function and a collection of items. It makes a new, empty collection, runs the function on each item in the original collection and inserts each return value into the new collection. It returns the new collection.\n",
    "\n",
    "### Filter takes a function and a collection of items. It filters out all the elements of the collection for which the function returns true."
   ]
  },
  {
   "cell_type": "code",
   "execution_count": 29,
   "metadata": {
    "scrolled": true
   },
   "outputs": [
    {
     "name": "stdout",
     "output_type": "stream",
     "text": [
      "[6, 10, 12, 14, 16, 18, 22, 24]\n",
      "[11, 12]\n"
     ]
    }
   ],
   "source": [
    "def multiply2(a):\n",
    "    return (a*2)\n",
    "\n",
    "test_list = [3,5,6,7,8,9,11,12]\n",
    "\n",
    "# Multiply every element of list by 2\n",
    "return_list = list(map(multiply2, test_list))\n",
    "print (return_list)\n",
    "\n",
    "def greater_elem(a):\n",
    "    if a > 10:\n",
    "        return True\n",
    "    else:\n",
    "        return False\n",
    "\n",
    "# Filter if elements are greater than 10\n",
    "return_list = list(filter(greater_elem, test_list))\n",
    "print (return_list)\n"
   ]
  },
  {
   "cell_type": "markdown",
   "metadata": {},
   "source": [
    "# Lambda construct\n",
    "\n",
    "### Anonymous functions"
   ]
  },
  {
   "cell_type": "code",
   "execution_count": 30,
   "metadata": {
    "scrolled": true
   },
   "outputs": [
    {
     "name": "stdout",
     "output_type": "stream",
     "text": [
      "[6, 10, 12, 14, 16, 18, 0]\n"
     ]
    }
   ],
   "source": [
    "test_list = [3,5,6,7,8,9,0]\n",
    "\n",
    "# Multiply every element of list by 2\n",
    "return_list = list(map(lambda x: x*2, test_list))\n",
    "print (return_list)"
   ]
  },
  {
   "cell_type": "code",
   "execution_count": null,
   "metadata": {
    "collapsed": true
   },
   "outputs": [],
   "source": [
    "dict_a = [{'name': 'alisha', 'points': 10}, {'name': 'aneja', 'points': 8}]\n",
    "  \n",
    "map(lambda x : x['name'], dict_a) # Output: ['alisha', 'aneja']\n",
    "map(lambda x : x['points']*10,  dict_a) # Output: [100, 80]\n",
    "map(lambda x : x['name'] == \"alisha\", dict_a) # Output: [True, False]"
   ]
  },
  {
   "cell_type": "markdown",
   "metadata": {
    "collapsed": true
   },
   "source": [
    "# List Comprehensions\n",
    "\n",
    "### They are faster than map. A list comprehension can be interpreted as a simple binding because there are no more mutations or reassignments. List comprehensions are directly inspired by Haskell list comprehensions."
   ]
  },
  {
   "cell_type": "code",
   "execution_count": null,
   "metadata": {
    "collapsed": true
   },
   "outputs": [],
   "source": [
    "mult = [x * 2 for x in test_list]\n",
    "print (mult)\n",
    "\n",
    "# Directly taken from Haskell list comprehensions\n",
    "\n",
    "# In Haskell:\n",
    "# let test_list = [3,5,6,7,8,9,0]\n",
    "# [x*2 | x <- [1..10]] \n",
    "\n",
    "# Combine the corresponding elements of two lists in pairs of tuples.\n",
    "nums = [1, 2, 3, 4, 5]\n",
    "letters = ['A', 'B', 'C', 'D', 'E']\n",
    "nums_letters = [(n, l) for n in nums for l in letters]\n",
    "print (nums_letters)"
   ]
  },
  {
   "cell_type": "markdown",
   "metadata": {},
   "source": [
    "# Iterators and Generators\n",
    "[\n",
    "## Iterators\n",
    "\n",
    "###  Iterators represent a stream of data which returns one element at a time (thus following lazy evaluation). It must support a __next__() method, which returns the next element of the stream and returns StopIteration exception if there is no next element. Lists and dictionaries both support iteration.\n",
    "\n",
    "### Can materialize it using list and tuple.\n",
    "\n",
    "### Can do sequence unpacking if number of elements is known.\n",
    "\n",
    "### Files also support iteration by calling the readline() method until there are no more lines in the file.\n",
    "\n",
    "## Generators\n",
    "\n",
    "### Generators return iterator that returns a stream of values. \n",
    "\n",
    "### Normal functions vs generators: When the function reaches the return statement local variables are destroyed and the value is returned to the caller. A later call to the same function creates a new private namespace and a fresh set of local variables. But, what if the local variables weren’t thrown away on exiting a function? What if you could later resume the function where it left off? This is what generators provide; they can be thought of as 'resumable functions'.\n",
    "### Any function containing a yield keyword is a generator function. When you call a generator function, it doesn’t return a single value; instead it returns a generator object that supports the iterator protocol. On executing the yield expression, the generator outputs the value of i, similar to a return statement. The big difference between yield and a return statement is that on reaching a yield the generator’s state of execution is suspended and local variables are preserved. On the next call to the generator’s __next__() method, the function will resume executing.\n",
    "\n",
    "## Generator Expressions\n",
    "\n",
    "### Generator expressions return an iterator unlike list comprehensions which return a list."
   ]
  },
  {
   "cell_type": "code",
   "execution_count": 31,
   "metadata": {},
   "outputs": [
    {
     "name": "stdout",
     "output_type": "stream",
     "text": [
      "2\n",
      "4\n",
      "7\n",
      "(3, 7, 8, 3, 8)\n",
      "[3, 7, 8, 3, 8]\n",
      "7 8 4\n",
      "<class 'generator'>\n",
      "2\n",
      "<generator object <genexpr> at 0x7f44d4d15308>\n"
     ]
    },
    {
     "data": {
      "text/plain": [
       "4"
      ]
     },
     "execution_count": 31,
     "metadata": {},
     "output_type": "execute_result"
    }
   ],
   "source": [
    "# ************Iterators**************\n",
    "\n",
    "list1 = [2,4,7]\n",
    "\n",
    "# iter() takes an iterable and gives one element at a time\n",
    "a = iter(list1)\n",
    "\n",
    "print (a.__next__())\n",
    "print (a.__next__())\n",
    "print (a.__next__())\n",
    "# print (a.__next__())\n",
    "\n",
    "# Materialize the iterator using lists and tuples\n",
    "list2 = [3,7,8,3,8]\n",
    "l = list(list2)\n",
    "t = tuple(list2)\n",
    "print (t)\n",
    "print (l)\n",
    "\n",
    "# Unpacking the iterator\n",
    "list3 = [7,8,4]\n",
    "x = iter(list3)\n",
    "(a,b,c) = x\n",
    "print (a,b,c)\n",
    "\n",
    "# ************Generators***************\n",
    "\n",
    "test_list = [2,3,5,8,8]\n",
    "\n",
    "def yield_elems(test_list):\n",
    "    for i in test_list:\n",
    "        yield i\n",
    "\n",
    "# Return a generator\n",
    "a = yield_elems(test_list)\n",
    "print (type(a))\n",
    "\n",
    "print(a.__next__())\n",
    "\n",
    "# ************Generator Expressions****************\n",
    "\n",
    "a = (x for x in [1,2,3,4,5] if x>2)\n",
    "print (a)\n",
    "\n",
    "a.__next__()\n",
    "a.__next__()"
   ]
  },
  {
   "cell_type": "markdown",
   "metadata": {},
   "source": [
    "# Module 'itertools'\n",
    "\n",
    "### When we are discussing about iterators in such great depth, we definitely need functions to manipulate the iterators. Itertools has number of iterators and functions to combine several iterators.\n",
    "\n",
    "### 'itertools' has : Functions that create a new iterator based on an existing iterator, functions for treating an iterator’s elements as function arguments, functions for selecting portions of an iterator’s output, and function for grouping an iterator’s output.\n"
   ]
  },
  {
   "cell_type": "code",
   "execution_count": 2,
   "metadata": {
    "collapsed": true
   },
   "outputs": [],
   "source": [
    "from itertools import *"
   ]
  },
  {
   "cell_type": "code",
   "execution_count": 33,
   "metadata": {},
   "outputs": [
    {
     "data": {
      "text/plain": [
       "[1, 3, 4, 5, 'a', 'b', 'c']"
      ]
     },
     "execution_count": 33,
     "metadata": {},
     "output_type": "execute_result"
    }
   ],
   "source": [
    "# takes an arbitrary number of iterables as input, and returns all the elements of the first iterator, \n",
    "# then all the elements of the second, and so on, until all of the iterables have been exhausted.\n",
    "\n",
    "list(chain([1,3,4,5], ['a','b','c']))"
   ]
  },
  {
   "cell_type": "code",
   "execution_count": 32,
   "metadata": {
    "collapsed": true
   },
   "outputs": [],
   "source": [
    "# cycle() repeats the elements infintely\n",
    "\n",
    "# Creates new iterators, will have to break out of loop\n",
    "# for i in cycle([2,3,4,7,7]):\n",
    "#     print (i)"
   ]
  },
  {
   "cell_type": "code",
   "execution_count": 34,
   "metadata": {},
   "outputs": [
    {
     "data": {
      "text/plain": [
       "[6]"
      ]
     },
     "execution_count": 34,
     "metadata": {},
     "output_type": "execute_result"
    }
   ],
   "source": [
    "# islice() returns a stream that’s a slice of the iterator. With a single stop argument, \n",
    "# it will return the first stop elements. If you supply a starting index, you’ll get stop-start elements,\n",
    "# and if you supply a value for step, elements will be skipped accordingly.\n",
    "# Unlike Python’s string and list slicing, you can’t use negative values for start, stop, or step.\n",
    "# Creates new iterator\n",
    "\n",
    "list(islice([4,6,7,3], 1, 3, 2))\n"
   ]
  },
  {
   "cell_type": "code",
   "execution_count": null,
   "metadata": {
    "collapsed": true
   },
   "outputs": [],
   "source": [
    "\n"
   ]
  },
  {
   "cell_type": "code",
   "execution_count": 35,
   "metadata": {},
   "outputs": [
    {
     "data": {
      "text/plain": [
       "[11, 34, 66, 100, 1]"
      ]
     },
     "execution_count": 35,
     "metadata": {},
     "output_type": "execute_result"
    }
   ],
   "source": [
    "list(combinations([1, 2, 3, 4, 5], 2))\n",
    "list(combinations([1, 2, 3, 4, 5], 3))\n",
    "list(permutations([1, 2, 3, 4, 5], 2))\n",
    "list(takewhile(lambda x: x<5, [1,4,6,4,1]))\n",
    "list(dropwhile(lambda x: x < 10, [1, 4, 6, 7, 11, 34, 66, 100, 1]))"
   ]
  },
  {
   "cell_type": "code",
   "execution_count": 10,
   "metadata": {
    "collapsed": true
   },
   "outputs": [],
   "source": [
    "from functools import *"
   ]
  },
  {
   "cell_type": "markdown",
   "metadata": {
    "collapsed": true
   },
   "source": [
    "### Perhaps the most common of the functions from functool module are partial() and reduce()"
   ]
  },
  {
   "cell_type": "markdown",
   "metadata": {
    "collapsed": true
   },
   "source": [
    "# partial()\n",
    "\n",
    "### Freezing some portion of functions arguments"
   ]
  },
  {
   "cell_type": "code",
   "execution_count": 19,
   "metadata": {},
   "outputs": [
    {
     "name": "stdout",
     "output_type": "stream",
     "text": [
      "The food I like is muffin, pancake, ice cream\n"
     ]
    }
   ],
   "source": [
    "def sweet(choice1, choice2, choice3):\n",
    "    print(\"The food I like is %s, %s, %s\"%(choice1, choice2, choice3))\n",
    "    \n",
    "order_sweet = partial(food_to_eat, choice3='ice cream')\n",
    "order_sweet('muffin', 'pancake')"
   ]
  },
  {
   "cell_type": "markdown",
   "metadata": {
    "collapsed": true
   },
   "source": [
    "# reduce()\n",
    "\n",
    "### reduce takes a function and a sequence and applies the function continually on the sequence and returns a single value."
   ]
  },
  {
   "cell_type": "code",
   "execution_count": 36,
   "metadata": {},
   "outputs": [
    {
     "data": {
      "text/plain": [
       "282282"
      ]
     },
     "execution_count": 36,
     "metadata": {},
     "output_type": "execute_result"
    }
   ],
   "source": [
    "reduce(lambda x,y: x*y, [47,11,42,13])"
   ]
  }
 ],
 "metadata": {
  "kernelspec": {
   "display_name": "Python 3",
   "language": "python",
   "name": "python3"
  },
  "language_info": {
   "codemirror_mode": {
    "name": "ipython",
    "version": 3
   },
   "file_extension": ".py",
   "mimetype": "text/x-python",
   "name": "python",
   "nbconvert_exporter": "python",
   "pygments_lexer": "ipython3",
   "version": "3.6.3"
  }
 },
 "nbformat": 4,
 "nbformat_minor": 2
}
